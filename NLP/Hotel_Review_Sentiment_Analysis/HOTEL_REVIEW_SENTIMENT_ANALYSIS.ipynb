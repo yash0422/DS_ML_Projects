{
 "cells": [
  {
   "cell_type": "raw",
   "metadata": {},
   "source": [
    "24"
   ]
  },
  {
   "cell_type": "markdown",
   "metadata": {},
   "source": [
    "###### HOTEL REVIEW SENTIMENT ANALYSIS"
   ]
  },
  {
   "cell_type": "markdown",
   "metadata": {},
   "source": [
    "** INDEX: **\n",
    "\n",
    "###### 1. [IMPORT LIBRARIES, SET DIRECTORY & LOAD DATA](#IMPORT-LIBRARIES,-SET-DIRECTORY-&-LOAD-DATA)\n",
    "###### 2. [CHECK MISSING VALUES & PERCENTAGE OF MISSING VALUES](#CHECK-MISSING-VALUES-&-PERCENTAGE-OF-MISSING-VALUES)\n",
    "###### 3. [Checking for the DISTRIBUTION of DEFAULT](#Checking-for-the-DISTRIBUTION-of-DEFAULT)\n",
    "###### 4. [DROP IRRELEVANT COLUMNS](#DROP-IRRELEVANT-COLUMNS)\n",
    "###### 5. [APPLY FIRST LEVEL OF TEXT CLEANING](#APPLY-FIRST-LEVEL-OF-TEXT-CLEANING)\n",
    "###### 6. [ADD COLUMN WITH FIRST-LEVEL CLEANED DATA](#ADD-COLUMN-WITH-FIRST-LEVEL-CLEANED-DATA)\n",
    "###### 7. [APPLY SECOND LEVEL OF TEXT CLEANING](#APPLY-SECOND-LEVEL-OF-TEXT-CLEANING)\n",
    "###### 8. [ADD COLUMN WITH SECOND-LEVEL CLEANED DATA](#ADD-COLUMN-WITH-SECOND-LEVEL-CLEANED-DATA)\n",
    "###### 9. [MODEL SPLITTING - TRAIN_TEST_SPLIT](#MODEL-SPLITTING-TRAIN_TEST_SPLIT)\n",
    "###### 10. [CREATE INSTANCES FOR TFIDFVECTORIZER AND LOGISTIC_REGRESSION](#CREATE-INSTANCES-FOR-TFIDFVECTORIZER-AND-LOGISTIC_REGRESSION)\n",
    "###### 11. [CREATE MODEL AND FIT MODEL ON TRAINING SET](#CREATE-MODEL-AND-FIT-MODEL-ON-TRAINING-SET)\n",
    "###### 12. [DO PREDICTION ON TEST_SET AND CREATE CONFUSION_MATRIX](#DO-PREDICTION-ON-TEST_SET-AND-CREATE-CONFUSION_MATRIX)\n",
    "###### 13. [MODEL PREDICTIONS](#MODEL-PREDICTIONS)\n",
    "###### 14. [TESTING AN EXAMPLE](#TESTING-AN-EXAMPLE)"
   ]
  },
  {
   "cell_type": "markdown",
   "metadata": {},
   "source": [
    "###### IMPORT LIBRARIES, SET DIRECTORY & LOAD DATA"
   ]
  },
  {
   "cell_type": "code",
   "execution_count": 3,
   "metadata": {},
   "outputs": [],
   "source": [
    "# WARNINGS\n",
    "import warnings\n",
    "warnings.filterwarnings('ignore')\n",
    "import pandas as pd\n",
    "import numpy as np"
   ]
  },
  {
   "cell_type": "code",
   "execution_count": 5,
   "metadata": {
    "collapsed": true
   },
   "outputs": [
    {
     "data": {
      "text/html": [
       "<div>\n",
       "<style scoped>\n",
       "    .dataframe tbody tr th:only-of-type {\n",
       "        vertical-align: middle;\n",
       "    }\n",
       "\n",
       "    .dataframe tbody tr th {\n",
       "        vertical-align: top;\n",
       "    }\n",
       "\n",
       "    .dataframe thead th {\n",
       "        text-align: right;\n",
       "    }\n",
       "</style>\n",
       "<table border=\"1\" class=\"dataframe\">\n",
       "  <thead>\n",
       "    <tr style=\"text-align: right;\">\n",
       "      <th></th>\n",
       "      <th>User_ID</th>\n",
       "      <th>Description</th>\n",
       "      <th>Browser_Used</th>\n",
       "      <th>Device_Used</th>\n",
       "      <th>Is_Response</th>\n",
       "    </tr>\n",
       "  </thead>\n",
       "  <tbody>\n",
       "    <tr>\n",
       "      <td>0</td>\n",
       "      <td>id10326</td>\n",
       "      <td>The room was kind of clean but had a VERY stro...</td>\n",
       "      <td>Edge</td>\n",
       "      <td>Mobile</td>\n",
       "      <td>not happy</td>\n",
       "    </tr>\n",
       "    <tr>\n",
       "      <td>1</td>\n",
       "      <td>id10327</td>\n",
       "      <td>I stayed at the Crown Plaza April -- - April -...</td>\n",
       "      <td>Internet Explorer</td>\n",
       "      <td>Mobile</td>\n",
       "      <td>not happy</td>\n",
       "    </tr>\n",
       "    <tr>\n",
       "      <td>2</td>\n",
       "      <td>id10328</td>\n",
       "      <td>I booked this hotel through Hotwire at the low...</td>\n",
       "      <td>Mozilla</td>\n",
       "      <td>Tablet</td>\n",
       "      <td>not happy</td>\n",
       "    </tr>\n",
       "    <tr>\n",
       "      <td>3</td>\n",
       "      <td>id10329</td>\n",
       "      <td>Stayed here with husband and sons on the way t...</td>\n",
       "      <td>InternetExplorer</td>\n",
       "      <td>Desktop</td>\n",
       "      <td>happy</td>\n",
       "    </tr>\n",
       "    <tr>\n",
       "      <td>4</td>\n",
       "      <td>id10330</td>\n",
       "      <td>My girlfriends and I stayed here to celebrate ...</td>\n",
       "      <td>Edge</td>\n",
       "      <td>Tablet</td>\n",
       "      <td>not happy</td>\n",
       "    </tr>\n",
       "    <tr>\n",
       "      <td>5</td>\n",
       "      <td>id10331</td>\n",
       "      <td>We had - rooms. One was very nice and clearly ...</td>\n",
       "      <td>InternetExplorer</td>\n",
       "      <td>Desktop</td>\n",
       "      <td>happy</td>\n",
       "    </tr>\n",
       "    <tr>\n",
       "      <td>6</td>\n",
       "      <td>id10332</td>\n",
       "      <td>My husband and I have stayed in this hotel a f...</td>\n",
       "      <td>Firefox</td>\n",
       "      <td>Tablet</td>\n",
       "      <td>not happy</td>\n",
       "    </tr>\n",
       "    <tr>\n",
       "      <td>7</td>\n",
       "      <td>id10333</td>\n",
       "      <td>My wife &amp; I stayed in this glorious city a whi...</td>\n",
       "      <td>Google Chrome</td>\n",
       "      <td>Mobile</td>\n",
       "      <td>happy</td>\n",
       "    </tr>\n",
       "    <tr>\n",
       "      <td>8</td>\n",
       "      <td>id10334</td>\n",
       "      <td>My boyfriend and I stayed at the Fairmont on a...</td>\n",
       "      <td>Internet Explorer</td>\n",
       "      <td>Desktop</td>\n",
       "      <td>happy</td>\n",
       "    </tr>\n",
       "    <tr>\n",
       "      <td>9</td>\n",
       "      <td>id10335</td>\n",
       "      <td>Wonderful staff, great location, but it was de...</td>\n",
       "      <td>Chrome</td>\n",
       "      <td>Tablet</td>\n",
       "      <td>not happy</td>\n",
       "    </tr>\n",
       "  </tbody>\n",
       "</table>\n",
       "</div>"
      ],
      "text/plain": [
       "   User_ID                                        Description  \\\n",
       "0  id10326  The room was kind of clean but had a VERY stro...   \n",
       "1  id10327  I stayed at the Crown Plaza April -- - April -...   \n",
       "2  id10328  I booked this hotel through Hotwire at the low...   \n",
       "3  id10329  Stayed here with husband and sons on the way t...   \n",
       "4  id10330  My girlfriends and I stayed here to celebrate ...   \n",
       "5  id10331  We had - rooms. One was very nice and clearly ...   \n",
       "6  id10332  My husband and I have stayed in this hotel a f...   \n",
       "7  id10333  My wife & I stayed in this glorious city a whi...   \n",
       "8  id10334  My boyfriend and I stayed at the Fairmont on a...   \n",
       "9  id10335  Wonderful staff, great location, but it was de...   \n",
       "\n",
       "        Browser_Used Device_Used Is_Response  \n",
       "0               Edge      Mobile   not happy  \n",
       "1  Internet Explorer      Mobile   not happy  \n",
       "2            Mozilla      Tablet   not happy  \n",
       "3   InternetExplorer     Desktop       happy  \n",
       "4               Edge      Tablet   not happy  \n",
       "5   InternetExplorer     Desktop       happy  \n",
       "6            Firefox      Tablet   not happy  \n",
       "7      Google Chrome      Mobile       happy  \n",
       "8  Internet Explorer     Desktop       happy  \n",
       "9             Chrome      Tablet   not happy  "
      ]
     },
     "execution_count": 5,
     "metadata": {},
     "output_type": "execute_result"
    }
   ],
   "source": [
    "import os\n",
    "os.chdir(r'C:\\Users\\Asus\\Desktop\\Data Science Master Program\\004 ML Practise\\004_DEEP_LEARNING\\NLP')\n",
    "Reviewdata = pd.read_csv('train_hotelReview.csv')\n",
    "Reviewdata.head(10)\n",
    "\n",
    "# DATA SOURCE: https://www.kaggle.com/anu0012/hotel-review/data"
   ]
  },
  {
   "cell_type": "code",
   "execution_count": 6,
   "metadata": {},
   "outputs": [
    {
     "data": {
      "text/plain": [
       "(38932, 5)"
      ]
     },
     "execution_count": 6,
     "metadata": {},
     "output_type": "execute_result"
    }
   ],
   "source": [
    "Reviewdata.shape"
   ]
  },
  {
   "cell_type": "code",
   "execution_count": 7,
   "metadata": {},
   "outputs": [
    {
     "name": "stdout",
     "output_type": "stream",
     "text": [
      "<class 'pandas.core.frame.DataFrame'>\n",
      "RangeIndex: 38932 entries, 0 to 38931\n",
      "Data columns (total 5 columns):\n",
      "User_ID         38932 non-null object\n",
      "Description     38932 non-null object\n",
      "Browser_Used    38932 non-null object\n",
      "Device_Used     38932 non-null object\n",
      "Is_Response     38932 non-null object\n",
      "dtypes: object(5)\n",
      "memory usage: 1.5+ MB\n"
     ]
    }
   ],
   "source": [
    "Reviewdata.info()"
   ]
  },
  {
   "cell_type": "code",
   "execution_count": 8,
   "metadata": {},
   "outputs": [
    {
     "data": {
      "text/html": [
       "<div>\n",
       "<style scoped>\n",
       "    .dataframe tbody tr th:only-of-type {\n",
       "        vertical-align: middle;\n",
       "    }\n",
       "\n",
       "    .dataframe tbody tr th {\n",
       "        vertical-align: top;\n",
       "    }\n",
       "\n",
       "    .dataframe thead th {\n",
       "        text-align: right;\n",
       "    }\n",
       "</style>\n",
       "<table border=\"1\" class=\"dataframe\">\n",
       "  <thead>\n",
       "    <tr style=\"text-align: right;\">\n",
       "      <th></th>\n",
       "      <th>count</th>\n",
       "      <th>unique</th>\n",
       "      <th>top</th>\n",
       "      <th>freq</th>\n",
       "    </tr>\n",
       "  </thead>\n",
       "  <tbody>\n",
       "    <tr>\n",
       "      <td>User_ID</td>\n",
       "      <td>38932</td>\n",
       "      <td>38932</td>\n",
       "      <td>id11314</td>\n",
       "      <td>1</td>\n",
       "    </tr>\n",
       "    <tr>\n",
       "      <td>Description</td>\n",
       "      <td>38932</td>\n",
       "      <td>38932</td>\n",
       "      <td>After getting a very cheap deal on priceline f...</td>\n",
       "      <td>1</td>\n",
       "    </tr>\n",
       "    <tr>\n",
       "      <td>Browser_Used</td>\n",
       "      <td>38932</td>\n",
       "      <td>11</td>\n",
       "      <td>Firefox</td>\n",
       "      <td>7367</td>\n",
       "    </tr>\n",
       "    <tr>\n",
       "      <td>Device_Used</td>\n",
       "      <td>38932</td>\n",
       "      <td>3</td>\n",
       "      <td>Desktop</td>\n",
       "      <td>15026</td>\n",
       "    </tr>\n",
       "    <tr>\n",
       "      <td>Is_Response</td>\n",
       "      <td>38932</td>\n",
       "      <td>2</td>\n",
       "      <td>happy</td>\n",
       "      <td>26521</td>\n",
       "    </tr>\n",
       "  </tbody>\n",
       "</table>\n",
       "</div>"
      ],
      "text/plain": [
       "              count unique                                                top  \\\n",
       "User_ID       38932  38932                                            id11314   \n",
       "Description   38932  38932  After getting a very cheap deal on priceline f...   \n",
       "Browser_Used  38932     11                                            Firefox   \n",
       "Device_Used   38932      3                                            Desktop   \n",
       "Is_Response   38932      2                                              happy   \n",
       "\n",
       "               freq  \n",
       "User_ID           1  \n",
       "Description       1  \n",
       "Browser_Used   7367  \n",
       "Device_Used   15026  \n",
       "Is_Response   26521  "
      ]
     },
     "execution_count": 8,
     "metadata": {},
     "output_type": "execute_result"
    }
   ],
   "source": [
    "Reviewdata.describe().transpose()"
   ]
  },
  {
   "cell_type": "markdown",
   "metadata": {},
   "source": [
    "###### CHECK MISSING VALUES & PERCENTAGE OF MISSING VALUES"
   ]
  },
  {
   "cell_type": "code",
   "execution_count": 10,
   "metadata": {},
   "outputs": [
    {
     "name": "stdout",
     "output_type": "stream",
     "text": [
      "Count and Percentage of missing values for the columns: \n"
     ]
    },
    {
     "data": {
      "text/html": [
       "<div>\n",
       "<style scoped>\n",
       "    .dataframe tbody tr th:only-of-type {\n",
       "        vertical-align: middle;\n",
       "    }\n",
       "\n",
       "    .dataframe tbody tr th {\n",
       "        vertical-align: top;\n",
       "    }\n",
       "\n",
       "    .dataframe thead th {\n",
       "        text-align: right;\n",
       "    }\n",
       "</style>\n",
       "<table border=\"1\" class=\"dataframe\">\n",
       "  <thead>\n",
       "    <tr style=\"text-align: right;\">\n",
       "      <th></th>\n",
       "      <th>0</th>\n",
       "      <th>1</th>\n",
       "    </tr>\n",
       "  </thead>\n",
       "  <tbody>\n",
       "    <tr>\n",
       "      <td>Is_Response</td>\n",
       "      <td>0</td>\n",
       "      <td>0.0</td>\n",
       "    </tr>\n",
       "    <tr>\n",
       "      <td>Device_Used</td>\n",
       "      <td>0</td>\n",
       "      <td>0.0</td>\n",
       "    </tr>\n",
       "    <tr>\n",
       "      <td>Browser_Used</td>\n",
       "      <td>0</td>\n",
       "      <td>0.0</td>\n",
       "    </tr>\n",
       "    <tr>\n",
       "      <td>Description</td>\n",
       "      <td>0</td>\n",
       "      <td>0.0</td>\n",
       "    </tr>\n",
       "    <tr>\n",
       "      <td>User_ID</td>\n",
       "      <td>0</td>\n",
       "      <td>0.0</td>\n",
       "    </tr>\n",
       "  </tbody>\n",
       "</table>\n",
       "</div>"
      ],
      "text/plain": [
       "              0    1\n",
       "Is_Response   0  0.0\n",
       "Device_Used   0  0.0\n",
       "Browser_Used  0  0.0\n",
       "Description   0  0.0\n",
       "User_ID       0  0.0"
      ]
     },
     "execution_count": 10,
     "metadata": {},
     "output_type": "execute_result"
    }
   ],
   "source": [
    "count = Reviewdata.isnull().sum().sort_values(ascending = False)\n",
    "percentage = ((Reviewdata.isnull().sum() / len(Reviewdata) * 100)).sort_values(ascending = False)\n",
    "missing_data = pd.concat([count, percentage], axis = 1)\n",
    "keys = ['Count', 'Percentage']\n",
    "\n",
    "print('Count and Percentage of missing values for the columns: ')\n",
    "\n",
    "missing_data"
   ]
  },
  {
   "cell_type": "markdown",
   "metadata": {},
   "source": [
    "###### Checking for the DISTRIBUTION of DEFAULT"
   ]
  },
  {
   "cell_type": "code",
   "execution_count": 12,
   "metadata": {},
   "outputs": [
    {
     "name": "stdout",
     "output_type": "stream",
     "text": [
      "Percentage for Default\n",
      "\n",
      "happy        68.12\n",
      "not happy    31.88\n",
      "Name: Is_Response, dtype: float64\n"
     ]
    },
    {
     "data": {
      "image/png": "[encoded data removed]",
      "text/plain": [
       "<Figure size 432x288 with 1 Axes>"
      ]
     },
     "metadata": {
      "needs_background": "light"
     },
     "output_type": "display_data"
    }
   ],
   "source": [
    "# Checking for the DISTRIBUTION of DEFAULT\n",
    "\n",
    "import matplotlib.pyplot as plt\n",
    "%matplotlib inline\n",
    "print('Percentage for Default\\n')\n",
    "print(round(Reviewdata.Is_Response.value_counts(normalize = True) * 100,2))\n",
    "round(Reviewdata.Is_Response.value_counts(normalize = True) * 100,2).plot(kind='bar')\n",
    "plt.title('Percentage Distribution by Review Type')\n",
    "plt.show()"
   ]
  },
  {
   "cell_type": "markdown",
   "metadata": {},
   "source": [
    "###### DROP IRRELEVANT COLUMNS"
   ]
  },
  {
   "cell_type": "code",
   "execution_count": 14,
   "metadata": {},
   "outputs": [],
   "source": [
    "# Removing COlumns\n",
    "Reviewdata.drop(columns = ['User_ID', 'Browser_Used', 'Device_Used'], inplace = True)"
   ]
  },
  {
   "cell_type": "code",
   "execution_count": 37,
   "metadata": {},
   "outputs": [
    {
     "data": {
      "text/plain": [
       "array(['not happy', 'happy'], dtype=object)"
      ]
     },
     "execution_count": 37,
     "metadata": {},
     "output_type": "execute_result"
    }
   ],
   "source": [
    "Reviewdata.Is_Response.unique()"
   ]
  },
  {
   "cell_type": "markdown",
   "metadata": {},
   "source": [
    "###### APPLY FIRST LEVEL OF TEXT CLEANING"
   ]
  },
  {
   "cell_type": "code",
   "execution_count": 16,
   "metadata": {},
   "outputs": [],
   "source": [
    "# Apply FIRST LEVEL CLEANING\n",
    "\n",
    "import re\n",
    "import string\n",
    "\n",
    "# This function converts to LOWER-CASE, REMOVES SQUARE BRACKETS, REMOVES NUMBERS and PUNCTUATION\n",
    "def text_clean_1(text):\n",
    "    text = text.lower()                                                 # Convert to LOWER-CASE\n",
    "    text = re.sub('\\[.*?\\]', '', text)                                  # '\\[.*?\\]' Remove SQUARE BRACKETS\n",
    "    text = re.sub('[%s]' % re.escape(string.punctuation), '', text)     # '[%s]' Remove PUNCTUATION\n",
    "    text = re.sub('\\w*\\d\\w*', '', text)                                 # '\\w*\\d\\w*' Remove DIGITS\n",
    "    return text\n",
    "\n",
    "cleaned1 = lambda x: text_clean_1(x)"
   ]
  },
  {
   "cell_type": "markdown",
   "metadata": {},
   "source": [
    "###### ADD COLUMN WITH FIRST-LEVEL CLEANED DATA"
   ]
  },
  {
   "cell_type": "code",
   "execution_count": 17,
   "metadata": {},
   "outputs": [
    {
     "data": {
      "text/html": [
       "<div>\n",
       "<style scoped>\n",
       "    .dataframe tbody tr th:only-of-type {\n",
       "        vertical-align: middle;\n",
       "    }\n",
       "\n",
       "    .dataframe tbody tr th {\n",
       "        vertical-align: top;\n",
       "    }\n",
       "\n",
       "    .dataframe thead th {\n",
       "        text-align: right;\n",
       "    }\n",
       "</style>\n",
       "<table border=\"1\" class=\"dataframe\">\n",
       "  <thead>\n",
       "    <tr style=\"text-align: right;\">\n",
       "      <th></th>\n",
       "      <th>Description</th>\n",
       "      <th>Is_Response</th>\n",
       "      <th>Cleaned_description</th>\n",
       "    </tr>\n",
       "  </thead>\n",
       "  <tbody>\n",
       "    <tr>\n",
       "      <td>0</td>\n",
       "      <td>The room was kind of clean but had a VERY stro...</td>\n",
       "      <td>not happy</td>\n",
       "      <td>the room was kind of clean but had a very stro...</td>\n",
       "    </tr>\n",
       "    <tr>\n",
       "      <td>1</td>\n",
       "      <td>I stayed at the Crown Plaza April -- - April -...</td>\n",
       "      <td>not happy</td>\n",
       "      <td>i stayed at the crown plaza april   april   th...</td>\n",
       "    </tr>\n",
       "    <tr>\n",
       "      <td>2</td>\n",
       "      <td>I booked this hotel through Hotwire at the low...</td>\n",
       "      <td>not happy</td>\n",
       "      <td>i booked this hotel through hotwire at the low...</td>\n",
       "    </tr>\n",
       "    <tr>\n",
       "      <td>3</td>\n",
       "      <td>Stayed here with husband and sons on the way t...</td>\n",
       "      <td>happy</td>\n",
       "      <td>stayed here with husband and sons on the way t...</td>\n",
       "    </tr>\n",
       "    <tr>\n",
       "      <td>4</td>\n",
       "      <td>My girlfriends and I stayed here to celebrate ...</td>\n",
       "      <td>not happy</td>\n",
       "      <td>my girlfriends and i stayed here to celebrate ...</td>\n",
       "    </tr>\n",
       "  </tbody>\n",
       "</table>\n",
       "</div>"
      ],
      "text/plain": [
       "                                         Description Is_Response  \\\n",
       "0  The room was kind of clean but had a VERY stro...   not happy   \n",
       "1  I stayed at the Crown Plaza April -- - April -...   not happy   \n",
       "2  I booked this hotel through Hotwire at the low...   not happy   \n",
       "3  Stayed here with husband and sons on the way t...       happy   \n",
       "4  My girlfriends and I stayed here to celebrate ...   not happy   \n",
       "\n",
       "                                 Cleaned_description  \n",
       "0  the room was kind of clean but had a very stro...  \n",
       "1  i stayed at the crown plaza april   april   th...  \n",
       "2  i booked this hotel through hotwire at the low...  \n",
       "3  stayed here with husband and sons on the way t...  \n",
       "4  my girlfriends and i stayed here to celebrate ...  "
      ]
     },
     "execution_count": 17,
     "metadata": {},
     "output_type": "execute_result"
    }
   ],
   "source": [
    "# Add a new column with cleaned data to existing dataset\n",
    "Reviewdata['Cleaned_description'] = pd.DataFrame(Reviewdata.Description.apply(cleaned1))\n",
    "Reviewdata.head()"
   ]
  },
  {
   "cell_type": "markdown",
   "metadata": {},
   "source": [
    "###### APPLY SECOND LEVEL OF TEXT CLEANING"
   ]
  },
  {
   "cell_type": "code",
   "execution_count": 21,
   "metadata": {},
   "outputs": [],
   "source": [
    "# Apply a SECOND ROUND of Cleaning\n",
    "def text_clean_2(text):\n",
    "    text = re.sub('[''\"\"...]', '', text)\n",
    "    text = re.sub('\\n', '', text)\n",
    "    return text\n",
    "\n",
    "cleaned2 = lambda x: text_clean_2(x)"
   ]
  },
  {
   "cell_type": "markdown",
   "metadata": {},
   "source": [
    "###### ADD COLUMN WITH SECOND-LEVEL CLEANED DATA"
   ]
  },
  {
   "cell_type": "code",
   "execution_count": 32,
   "metadata": {},
   "outputs": [
    {
     "data": {
      "text/html": [
       "<div>\n",
       "<style scoped>\n",
       "    .dataframe tbody tr th:only-of-type {\n",
       "        vertical-align: middle;\n",
       "    }\n",
       "\n",
       "    .dataframe tbody tr th {\n",
       "        vertical-align: top;\n",
       "    }\n",
       "\n",
       "    .dataframe thead th {\n",
       "        text-align: right;\n",
       "    }\n",
       "</style>\n",
       "<table border=\"1\" class=\"dataframe\">\n",
       "  <thead>\n",
       "    <tr style=\"text-align: right;\">\n",
       "      <th></th>\n",
       "      <th>Description</th>\n",
       "      <th>Is_Response</th>\n",
       "      <th>Cleaned_description</th>\n",
       "      <th>Cleaned_description_new</th>\n",
       "    </tr>\n",
       "  </thead>\n",
       "  <tbody>\n",
       "    <tr>\n",
       "      <td>0</td>\n",
       "      <td>The room was kind of clean but had a VERY stro...</td>\n",
       "      <td>not happy</td>\n",
       "      <td>the room was kind of clean but had a very stro...</td>\n",
       "      <td>the room was kind of clean but had a very stro...</td>\n",
       "    </tr>\n",
       "    <tr>\n",
       "      <td>1</td>\n",
       "      <td>I stayed at the Crown Plaza April -- - April -...</td>\n",
       "      <td>not happy</td>\n",
       "      <td>i stayed at the crown plaza april   april   th...</td>\n",
       "      <td>i stayed at the crown plaza april   april   th...</td>\n",
       "    </tr>\n",
       "    <tr>\n",
       "      <td>2</td>\n",
       "      <td>I booked this hotel through Hotwire at the low...</td>\n",
       "      <td>not happy</td>\n",
       "      <td>i booked this hotel through hotwire at the low...</td>\n",
       "      <td>i booked this hotel through hotwire at the low...</td>\n",
       "    </tr>\n",
       "    <tr>\n",
       "      <td>3</td>\n",
       "      <td>Stayed here with husband and sons on the way t...</td>\n",
       "      <td>happy</td>\n",
       "      <td>stayed here with husband and sons on the way t...</td>\n",
       "      <td>stayed here with husband and sons on the way t...</td>\n",
       "    </tr>\n",
       "    <tr>\n",
       "      <td>4</td>\n",
       "      <td>My girlfriends and I stayed here to celebrate ...</td>\n",
       "      <td>not happy</td>\n",
       "      <td>my girlfriends and i stayed here to celebrate ...</td>\n",
       "      <td>my girlfriends and i stayed here to celebrate ...</td>\n",
       "    </tr>\n",
       "    <tr>\n",
       "      <td>5</td>\n",
       "      <td>We had - rooms. One was very nice and clearly ...</td>\n",
       "      <td>happy</td>\n",
       "      <td>we had  rooms one was very nice and clearly ha...</td>\n",
       "      <td>we had  rooms one was very nice and clearly ha...</td>\n",
       "    </tr>\n",
       "    <tr>\n",
       "      <td>6</td>\n",
       "      <td>My husband and I have stayed in this hotel a f...</td>\n",
       "      <td>not happy</td>\n",
       "      <td>my husband and i have stayed in this hotel a f...</td>\n",
       "      <td>my husband and i have stayed in this hotel a f...</td>\n",
       "    </tr>\n",
       "    <tr>\n",
       "      <td>7</td>\n",
       "      <td>My wife &amp; I stayed in this glorious city a whi...</td>\n",
       "      <td>happy</td>\n",
       "      <td>my wife  i stayed in this glorious city a whil...</td>\n",
       "      <td>my wife  i stayed in this glorious city a whil...</td>\n",
       "    </tr>\n",
       "    <tr>\n",
       "      <td>8</td>\n",
       "      <td>My boyfriend and I stayed at the Fairmont on a...</td>\n",
       "      <td>happy</td>\n",
       "      <td>my boyfriend and i stayed at the fairmont on a...</td>\n",
       "      <td>my boyfriend and i stayed at the fairmont on a...</td>\n",
       "    </tr>\n",
       "    <tr>\n",
       "      <td>9</td>\n",
       "      <td>Wonderful staff, great location, but it was de...</td>\n",
       "      <td>not happy</td>\n",
       "      <td>wonderful staff great location but it was defi...</td>\n",
       "      <td>wonderful staff great location but it was defi...</td>\n",
       "    </tr>\n",
       "    <tr>\n",
       "      <td>10</td>\n",
       "      <td>Steps off Times Square, nice rooms, stayed - n...</td>\n",
       "      <td>happy</td>\n",
       "      <td>steps off times square nice rooms stayed  nigh...</td>\n",
       "      <td>steps off times square nice rooms stayed  nigh...</td>\n",
       "    </tr>\n",
       "    <tr>\n",
       "      <td>11</td>\n",
       "      <td>Me, the Wife and - kids stayed here on Valenti...</td>\n",
       "      <td>happy</td>\n",
       "      <td>me the wife and  kids stayed here on valentine...</td>\n",
       "      <td>me the wife and  kids stayed here on valentine...</td>\n",
       "    </tr>\n",
       "    <tr>\n",
       "      <td>12</td>\n",
       "      <td>We stay at the Jolly Madison over the Xmas per...</td>\n",
       "      <td>not happy</td>\n",
       "      <td>we stay at the jolly madison over the xmas per...</td>\n",
       "      <td>we stay at the jolly madison over the xmas per...</td>\n",
       "    </tr>\n",
       "    <tr>\n",
       "      <td>13</td>\n",
       "      <td>I highly recommend the Hawthorne Terrace as an...</td>\n",
       "      <td>happy</td>\n",
       "      <td>i highly recommend the hawthorne terrace as an...</td>\n",
       "      <td>i highly recommend the hawthorne terrace as an...</td>\n",
       "    </tr>\n",
       "    <tr>\n",
       "      <td>14</td>\n",
       "      <td>I found the hotel clean and nicely located. Go...</td>\n",
       "      <td>happy</td>\n",
       "      <td>i found the hotel clean and nicely located goo...</td>\n",
       "      <td>i found the hotel clean and nicely located goo...</td>\n",
       "    </tr>\n",
       "    <tr>\n",
       "      <td>15</td>\n",
       "      <td>Stayed at the Elan from --th to --th October a...</td>\n",
       "      <td>happy</td>\n",
       "      <td>stayed at the elan from th to th october and a...</td>\n",
       "      <td>stayed at the elan from th to th october and a...</td>\n",
       "    </tr>\n",
       "    <tr>\n",
       "      <td>16</td>\n",
       "      <td>Priceline sent us to this hotel after acceptin...</td>\n",
       "      <td>not happy</td>\n",
       "      <td>priceline sent us to this hotel after acceptin...</td>\n",
       "      <td>priceline sent us to this hotel after acceptin...</td>\n",
       "    </tr>\n",
       "    <tr>\n",
       "      <td>17</td>\n",
       "      <td>Old and cheap furnitures,our chair was simply ...</td>\n",
       "      <td>not happy</td>\n",
       "      <td>old and cheap furnituresour chair was simply d...</td>\n",
       "      <td>old and cheap furnituresour chair was simply d...</td>\n",
       "    </tr>\n",
       "    <tr>\n",
       "      <td>18</td>\n",
       "      <td>We stayed here for - nights and were really ha...</td>\n",
       "      <td>happy</td>\n",
       "      <td>we stayed here for  nights and were really hap...</td>\n",
       "      <td>we stayed here for  nights and were really hap...</td>\n",
       "    </tr>\n",
       "    <tr>\n",
       "      <td>19</td>\n",
       "      <td>The service was fine, but the hotel itself fel...</td>\n",
       "      <td>not happy</td>\n",
       "      <td>the service was fine but the hotel itself fell...</td>\n",
       "      <td>the service was fine but the hotel itself fell...</td>\n",
       "    </tr>\n",
       "  </tbody>\n",
       "</table>\n",
       "</div>"
      ],
      "text/plain": [
       "                                          Description Is_Response  \\\n",
       "0   The room was kind of clean but had a VERY stro...   not happy   \n",
       "1   I stayed at the Crown Plaza April -- - April -...   not happy   \n",
       "2   I booked this hotel through Hotwire at the low...   not happy   \n",
       "3   Stayed here with husband and sons on the way t...       happy   \n",
       "4   My girlfriends and I stayed here to celebrate ...   not happy   \n",
       "5   We had - rooms. One was very nice and clearly ...       happy   \n",
       "6   My husband and I have stayed in this hotel a f...   not happy   \n",
       "7   My wife & I stayed in this glorious city a whi...       happy   \n",
       "8   My boyfriend and I stayed at the Fairmont on a...       happy   \n",
       "9   Wonderful staff, great location, but it was de...   not happy   \n",
       "10  Steps off Times Square, nice rooms, stayed - n...       happy   \n",
       "11  Me, the Wife and - kids stayed here on Valenti...       happy   \n",
       "12  We stay at the Jolly Madison over the Xmas per...   not happy   \n",
       "13  I highly recommend the Hawthorne Terrace as an...       happy   \n",
       "14  I found the hotel clean and nicely located. Go...       happy   \n",
       "15  Stayed at the Elan from --th to --th October a...       happy   \n",
       "16  Priceline sent us to this hotel after acceptin...   not happy   \n",
       "17  Old and cheap furnitures,our chair was simply ...   not happy   \n",
       "18  We stayed here for - nights and were really ha...       happy   \n",
       "19  The service was fine, but the hotel itself fel...   not happy   \n",
       "\n",
       "                                  Cleaned_description  \\\n",
       "0   the room was kind of clean but had a very stro...   \n",
       "1   i stayed at the crown plaza april   april   th...   \n",
       "2   i booked this hotel through hotwire at the low...   \n",
       "3   stayed here with husband and sons on the way t...   \n",
       "4   my girlfriends and i stayed here to celebrate ...   \n",
       "5   we had  rooms one was very nice and clearly ha...   \n",
       "6   my husband and i have stayed in this hotel a f...   \n",
       "7   my wife  i stayed in this glorious city a whil...   \n",
       "8   my boyfriend and i stayed at the fairmont on a...   \n",
       "9   wonderful staff great location but it was defi...   \n",
       "10  steps off times square nice rooms stayed  nigh...   \n",
       "11  me the wife and  kids stayed here on valentine...   \n",
       "12  we stay at the jolly madison over the xmas per...   \n",
       "13  i highly recommend the hawthorne terrace as an...   \n",
       "14  i found the hotel clean and nicely located goo...   \n",
       "15  stayed at the elan from th to th october and a...   \n",
       "16  priceline sent us to this hotel after acceptin...   \n",
       "17  old and cheap furnituresour chair was simply d...   \n",
       "18  we stayed here for  nights and were really hap...   \n",
       "19  the service was fine but the hotel itself fell...   \n",
       "\n",
       "                              Cleaned_description_new  \n",
       "0   the room was kind of clean but had a very stro...  \n",
       "1   i stayed at the crown plaza april   april   th...  \n",
       "2   i booked this hotel through hotwire at the low...  \n",
       "3   stayed here with husband and sons on the way t...  \n",
       "4   my girlfriends and i stayed here to celebrate ...  \n",
       "5   we had  rooms one was very nice and clearly ha...  \n",
       "6   my husband and i have stayed in this hotel a f...  \n",
       "7   my wife  i stayed in this glorious city a whil...  \n",
       "8   my boyfriend and i stayed at the fairmont on a...  \n",
       "9   wonderful staff great location but it was defi...  \n",
       "10  steps off times square nice rooms stayed  nigh...  \n",
       "11  me the wife and  kids stayed here on valentine...  \n",
       "12  we stay at the jolly madison over the xmas per...  \n",
       "13  i highly recommend the hawthorne terrace as an...  \n",
       "14  i found the hotel clean and nicely located goo...  \n",
       "15  stayed at the elan from th to th october and a...  \n",
       "16  priceline sent us to this hotel after acceptin...  \n",
       "17  old and cheap furnituresour chair was simply d...  \n",
       "18  we stayed here for  nights and were really hap...  \n",
       "19  the service was fine but the hotel itself fell...  "
      ]
     },
     "execution_count": 32,
     "metadata": {},
     "output_type": "execute_result"
    }
   ],
   "source": [
    "# Add another column with more cleaner data\n",
    "Reviewdata['Cleaned_description_new'] = pd.DataFrame(Reviewdata['Cleaned_description'].apply(cleaned2))\n",
    "# This also works: Reviewdata['cleaned_description_new'] = pd.DataFrame(Reviewdata.Cleaned_description.apply(cleaned2))\n",
    "Reviewdata.head(20)"
   ]
  },
  {
   "cell_type": "markdown",
   "metadata": {},
   "source": [
    "###### MODEL SPLITTING - TRAIN_TEST_SPLIT"
   ]
  },
  {
   "cell_type": "code",
   "execution_count": 33,
   "metadata": {},
   "outputs": [
    {
     "name": "stdout",
     "output_type": "stream",
     "text": [
      "IV_train:  35038\n",
      "IV_test:  3894\n",
      "DV_train:  35038\n",
      "DV_test:  3894\n"
     ]
    }
   ],
   "source": [
    "# Import Library\n",
    "from sklearn.model_selection import train_test_split\n",
    "\n",
    "# Define INDEPENDETN & DEPENDENT VARIABLES\n",
    "Independent_var = Reviewdata.Cleaned_description_new\n",
    "Dependent_var = Reviewdata.Is_Response\n",
    "\n",
    "# Create TRAIN-TEST SPLIT\n",
    "IV_train, IV_test, DV_train, DV_test = train_test_split(Independent_var, Dependent_var, test_size = 0.1, random_state = 422)\n",
    "\n",
    "print('IV_train: ', len(IV_train))\n",
    "print('IV_test: ', len(IV_test))\n",
    "print('DV_train: ', len(DV_train))\n",
    "print('DV_test: ', len(DV_test))"
   ]
  },
  {
   "cell_type": "markdown",
   "metadata": {},
   "source": [
    "###### CREATE INSTANCES FOR TFIDFVECTORIZER AND LOGISTIC_REGRESSION"
   ]
  },
  {
   "cell_type": "code",
   "execution_count": 34,
   "metadata": {},
   "outputs": [],
   "source": [
    "from sklearn.feature_extraction.text import TfidfVectorizer\n",
    "from sklearn.linear_model import LogisticRegression\n",
    "\n",
    "tvec = TfidfVectorizer()\n",
    "clf2 = LogisticRegression(solver = 'lbfgs')\n",
    "\n",
    "from sklearn.pipeline import Pipeline"
   ]
  },
  {
   "cell_type": "markdown",
   "metadata": {},
   "source": [
    "###### CREATE MODEL AND FIT MODEL ON TRAINING SET"
   ]
  },
  {
   "cell_type": "code",
   "execution_count": 35,
   "metadata": {},
   "outputs": [
    {
     "data": {
      "text/plain": [
       "array([[2476,  305],\n",
       "       [ 180,  933]], dtype=int64)"
      ]
     },
     "execution_count": 35,
     "metadata": {},
     "output_type": "execute_result"
    }
   ],
   "source": [
    "model = Pipeline([('vectorizer', tvec), ('classifier', clf2)])\n",
    "\n",
    "model.fit(IV_train, DV_train)"
   ]
  },
  {
   "cell_type": "markdown",
   "metadata": {},
   "source": [
    "###### DO PREDICTION ON TEST_SET AND CREATE CONFUSION_MATRIX"
   ]
  },
  {
   "cell_type": "code",
   "execution_count": 43,
   "metadata": {},
   "outputs": [
    {
     "data": {
      "text/plain": [
       "array([[2476,  305],\n",
       "       [ 180,  933]], dtype=int64)"
      ]
     },
     "execution_count": 43,
     "metadata": {},
     "output_type": "execute_result"
    }
   ],
   "source": [
    "from sklearn.metrics import confusion_matrix\n",
    "\n",
    "predictions = model.predict(IV_test)\n",
    "\n",
    "confusion_matrix(predictions, DV_test)"
   ]
  },
  {
   "cell_type": "markdown",
   "metadata": {},
   "source": [
    "###### MODEL PREDICTIONS"
   ]
  },
  {
   "cell_type": "code",
   "execution_count": 36,
   "metadata": {},
   "outputs": [
    {
     "name": "stdout",
     "output_type": "stream",
     "text": [
      "Accuracy:  0.8754494093477144\n",
      "Precision:  0.8811823966573809\n",
      "Recal:  0.8754494093477144\n"
     ]
    }
   ],
   "source": [
    "from sklearn.metrics import accuracy_score, precision_score, recall_score\n",
    "\n",
    "print(\"Accuracy: \", accuracy_score(predictions, DV_test))\n",
    "print(\"Precision: \", precision_score(predictions, DV_test, average = 'weighted'))\n",
    "print(\"Recal: \", recall_score(predictions, DV_test, average = 'weighted'))"
   ]
  },
  {
   "cell_type": "markdown",
   "metadata": {},
   "source": [
    "###### TESTING AN EXAMPLE"
   ]
  },
  {
   "cell_type": "code",
   "execution_count": 42,
   "metadata": {},
   "outputs": [
    {
     "name": "stdout",
     "output_type": "stream",
     "text": [
      "['happy']\n"
     ]
    }
   ],
   "source": [
    "example = [\"I'm fine, but even happy\"]\n",
    "result = model.predict(example)\n",
    "print(result)"
   ]
  },
  {
   "cell_type": "code",
   "execution_count": null,
   "metadata": {},
   "outputs": [],
   "source": []
  }
 ],
 "metadata": {
  "kernelspec": {
   "display_name": "Python 3",
   "language": "python",
   "name": "python3"
  },
  "language_info": {
   "codemirror_mode": {
    "name": "ipython",
    "version": 3
   },
   "file_extension": ".py",
   "mimetype": "text/x-python",
   "name": "python",
   "nbconvert_exporter": "python",
   "pygments_lexer": "ipython3",
   "version": "3.7.4"
  }
 },
 "nbformat": 4,
 "nbformat_minor": 2
}
